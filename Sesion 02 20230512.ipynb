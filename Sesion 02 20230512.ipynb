{
 "cells": [
  {
   "cell_type": "code",
   "execution_count": 3,
   "id": "e7bc1db6",
   "metadata": {},
   "outputs": [
    {
     "data": {
      "text/plain": [
       "1"
      ]
     },
     "execution_count": 3,
     "metadata": {},
     "output_type": "execute_result"
    }
   ],
   "source": [
    "entero=1\n",
    "entero"
   ]
  },
  {
   "cell_type": "code",
   "execution_count": 5,
   "id": "27447ef3",
   "metadata": {},
   "outputs": [],
   "source": [
    "entero=5\n",
    "flotante=3.2\n",
    "cadena='mamá'\n",
    "complejo=1+2j\n",
    "booleano=True\n"
   ]
  },
  {
   "cell_type": "code",
   "execution_count": 7,
   "id": "518651ad",
   "metadata": {},
   "outputs": [
    {
     "data": {
      "text/plain": [
       "str"
      ]
     },
     "execution_count": 7,
     "metadata": {},
     "output_type": "execute_result"
    }
   ],
   "source": [
    "type(cadena)"
   ]
  },
  {
   "cell_type": "code",
   "execution_count": 8,
   "id": "7fcf176a",
   "metadata": {},
   "outputs": [
    {
     "data": {
      "text/plain": [
       "8.2"
      ]
     },
     "execution_count": 8,
     "metadata": {},
     "output_type": "execute_result"
    }
   ],
   "source": [
    "entero+flotante"
   ]
  },
  {
   "cell_type": "code",
   "execution_count": 9,
   "id": "9758594f",
   "metadata": {},
   "outputs": [
    {
     "data": {
      "text/plain": [
       "2"
      ]
     },
     "execution_count": 9,
     "metadata": {},
     "output_type": "execute_result"
    }
   ],
   "source": [
    "booleano+booleano"
   ]
  },
  {
   "cell_type": "code",
   "execution_count": 11,
   "id": "504d8cb7",
   "metadata": {},
   "outputs": [
    {
     "data": {
      "text/plain": [
       "'mamá mamá'"
      ]
     },
     "execution_count": 11,
     "metadata": {},
     "output_type": "execute_result"
    }
   ],
   "source": [
    "cadena+' '+cadena"
   ]
  },
  {
   "cell_type": "code",
   "execution_count": 12,
   "id": "fa6e8134",
   "metadata": {},
   "outputs": [
    {
     "data": {
      "text/plain": [
       "(6+2j)"
      ]
     },
     "execution_count": 12,
     "metadata": {},
     "output_type": "execute_result"
    }
   ],
   "source": [
    "entero+complejo"
   ]
  },
  {
   "cell_type": "code",
   "execution_count": 13,
   "id": "65799aa7",
   "metadata": {},
   "outputs": [
    {
     "ename": "TypeError",
     "evalue": "unsupported operand type(s) for +: 'int' and 'str'",
     "output_type": "error",
     "traceback": [
      "\u001b[1;31m---------------------------------------------------------------------------\u001b[0m",
      "\u001b[1;31mTypeError\u001b[0m                                 Traceback (most recent call last)",
      "Cell \u001b[1;32mIn[13], line 1\u001b[0m\n\u001b[1;32m----> 1\u001b[0m \u001b[43mentero\u001b[49m\u001b[38;5;241;43m+\u001b[39;49m\u001b[43mcadena\u001b[49m\n",
      "\u001b[1;31mTypeError\u001b[0m: unsupported operand type(s) for +: 'int' and 'str'"
     ]
    }
   ],
   "source": [
    "entero+cadena"
   ]
  },
  {
   "cell_type": "code",
   "execution_count": 14,
   "id": "c359036c",
   "metadata": {},
   "outputs": [
    {
     "data": {
      "text/plain": [
       "(3.2+6.4j)"
      ]
     },
     "execution_count": 14,
     "metadata": {},
     "output_type": "execute_result"
    }
   ],
   "source": [
    "flotante*complejo"
   ]
  },
  {
   "cell_type": "code",
   "execution_count": 15,
   "id": "d6642f90",
   "metadata": {},
   "outputs": [
    {
     "data": {
      "text/plain": [
       "'mamámamámamámamámamá'"
      ]
     },
     "execution_count": 15,
     "metadata": {},
     "output_type": "execute_result"
    }
   ],
   "source": [
    "entero*cadena"
   ]
  },
  {
   "cell_type": "code",
   "execution_count": 16,
   "id": "9e173086",
   "metadata": {},
   "outputs": [
    {
     "ename": "TypeError",
     "evalue": "can't multiply sequence by non-int of type 'float'",
     "output_type": "error",
     "traceback": [
      "\u001b[1;31m---------------------------------------------------------------------------\u001b[0m",
      "\u001b[1;31mTypeError\u001b[0m                                 Traceback (most recent call last)",
      "Cell \u001b[1;32mIn[16], line 1\u001b[0m\n\u001b[1;32m----> 1\u001b[0m \u001b[43mflotante\u001b[49m\u001b[38;5;241;43m*\u001b[39;49m\u001b[43mcadena\u001b[49m\n",
      "\u001b[1;31mTypeError\u001b[0m: can't multiply sequence by non-int of type 'float'"
     ]
    }
   ],
   "source": [
    "flotante*cadena"
   ]
  },
  {
   "cell_type": "code",
   "execution_count": 20,
   "id": "682d8605",
   "metadata": {},
   "outputs": [
    {
     "data": {
      "text/plain": [
       "1000"
      ]
     },
     "execution_count": 20,
     "metadata": {},
     "output_type": "execute_result"
    }
   ],
   "source": [
    "#Los booleanos se tratan como enteros en la multiplicación True=1 False=0\n",
    "\n",
    "'''Este es un comentario de varias lineas\n",
    "si fuera más creativo escribiría un párrafo completo'''\n",
    "\n",
    "True*1000"
   ]
  },
  {
   "cell_type": "code",
   "execution_count": 23,
   "id": "d2a01c8d",
   "metadata": {},
   "outputs": [
    {
     "data": {
      "text/plain": [
       "9"
      ]
     },
     "execution_count": 23,
     "metadata": {},
     "output_type": "execute_result"
    }
   ],
   "source": [
    "3**2"
   ]
  },
  {
   "cell_type": "code",
   "execution_count": 26,
   "id": "c919ab87",
   "metadata": {},
   "outputs": [
    {
     "data": {
      "text/plain": [
       "335.5443200000001"
      ]
     },
     "execution_count": 26,
     "metadata": {},
     "output_type": "execute_result"
    }
   ],
   "source": [
    "flotante**5"
   ]
  },
  {
   "cell_type": "code",
   "execution_count": 29,
   "id": "e1845303",
   "metadata": {},
   "outputs": [
    {
     "data": {
      "text/plain": [
       "0.30000000000000004"
      ]
     },
     "execution_count": 29,
     "metadata": {},
     "output_type": "execute_result"
    }
   ],
   "source": [
    "0.1+0.2"
   ]
  },
  {
   "cell_type": "code",
   "execution_count": 30,
   "id": "b506835a",
   "metadata": {},
   "outputs": [
    {
     "ename": "TypeError",
     "evalue": "unsupported operand type(s) for ** or pow(): 'str' and 'int'",
     "output_type": "error",
     "traceback": [
      "\u001b[1;31m---------------------------------------------------------------------------\u001b[0m",
      "\u001b[1;31mTypeError\u001b[0m                                 Traceback (most recent call last)",
      "Cell \u001b[1;32mIn[30], line 1\u001b[0m\n\u001b[1;32m----> 1\u001b[0m \u001b[43mcadena\u001b[49m\u001b[38;5;241;43m*\u001b[39;49m\u001b[38;5;241;43m*\u001b[39;49m\u001b[43mentero\u001b[49m\n",
      "\u001b[1;31mTypeError\u001b[0m: unsupported operand type(s) for ** or pow(): 'str' and 'int'"
     ]
    }
   ],
   "source": [
    "cadena**entero"
   ]
  },
  {
   "cell_type": "code",
   "execution_count": 31,
   "id": "45b90c38",
   "metadata": {},
   "outputs": [
    {
     "data": {
      "text/plain": [
       "2"
      ]
     },
     "execution_count": 31,
     "metadata": {},
     "output_type": "execute_result"
    }
   ],
   "source": [
    "5%3"
   ]
  },
  {
   "cell_type": "code",
   "execution_count": 33,
   "id": "2e766b51",
   "metadata": {},
   "outputs": [
    {
     "data": {
      "text/plain": [
       "3.2"
      ]
     },
     "execution_count": 33,
     "metadata": {},
     "output_type": "execute_result"
    }
   ],
   "source": [
    "flotante%entero"
   ]
  },
  {
   "cell_type": "code",
   "execution_count": 34,
   "id": "40e1fed3",
   "metadata": {},
   "outputs": [
    {
     "data": {
      "text/plain": [
       "1.7999999999999998"
      ]
     },
     "execution_count": 34,
     "metadata": {},
     "output_type": "execute_result"
    }
   ],
   "source": [
    "entero%flotante"
   ]
  },
  {
   "cell_type": "code",
   "execution_count": 36,
   "id": "622f2e67",
   "metadata": {},
   "outputs": [
    {
     "data": {
      "text/plain": [
       "4"
      ]
     },
     "execution_count": 36,
     "metadata": {},
     "output_type": "execute_result"
    }
   ],
   "source": [
    "9//2"
   ]
  },
  {
   "cell_type": "code",
   "execution_count": 42,
   "id": "5477484b",
   "metadata": {},
   "outputs": [],
   "source": [
    "# Operadores de asignación\n",
    "\n",
    "variable=9"
   ]
  },
  {
   "cell_type": "code",
   "execution_count": 43,
   "id": "f942f304",
   "metadata": {},
   "outputs": [
    {
     "data": {
      "text/plain": [
       "9"
      ]
     },
     "execution_count": 43,
     "metadata": {},
     "output_type": "execute_result"
    }
   ],
   "source": [
    "variable"
   ]
  },
  {
   "cell_type": "code",
   "execution_count": 44,
   "id": "c080184c",
   "metadata": {},
   "outputs": [
    {
     "data": {
      "text/plain": [
       "11"
      ]
     },
     "execution_count": 44,
     "metadata": {},
     "output_type": "execute_result"
    }
   ],
   "source": [
    "variable=variable+2\n",
    "variable"
   ]
  },
  {
   "cell_type": "code",
   "execution_count": 45,
   "id": "e1cab5e3",
   "metadata": {},
   "outputs": [
    {
     "data": {
      "text/plain": [
       "13"
      ]
     },
     "execution_count": 45,
     "metadata": {},
     "output_type": "execute_result"
    }
   ],
   "source": [
    "variable+=2\n",
    "variable"
   ]
  },
  {
   "cell_type": "code",
   "execution_count": 46,
   "id": "7c48bfc8",
   "metadata": {},
   "outputs": [
    {
     "data": {
      "text/plain": [
       "10"
      ]
     },
     "execution_count": 46,
     "metadata": {},
     "output_type": "execute_result"
    }
   ],
   "source": [
    "variable-=3\n",
    "variable"
   ]
  },
  {
   "cell_type": "code",
   "execution_count": 47,
   "id": "0ec18597",
   "metadata": {},
   "outputs": [
    {
     "data": {
      "text/plain": [
       "False"
      ]
     },
     "execution_count": 47,
     "metadata": {},
     "output_type": "execute_result"
    }
   ],
   "source": [
    "entero==variable"
   ]
  },
  {
   "cell_type": "code",
   "execution_count": 48,
   "id": "ac1a3bc4",
   "metadata": {},
   "outputs": [
    {
     "data": {
      "text/plain": [
       "True"
      ]
     },
     "execution_count": 48,
     "metadata": {},
     "output_type": "execute_result"
    }
   ],
   "source": [
    "variable==10"
   ]
  },
  {
   "cell_type": "code",
   "execution_count": 49,
   "id": "5e26291b",
   "metadata": {},
   "outputs": [
    {
     "data": {
      "text/plain": [
       "True"
      ]
     },
     "execution_count": 49,
     "metadata": {},
     "output_type": "execute_result"
    }
   ],
   "source": [
    "1==True"
   ]
  },
  {
   "cell_type": "code",
   "execution_count": 50,
   "id": "99fc22a7",
   "metadata": {},
   "outputs": [
    {
     "data": {
      "text/plain": [
       "True"
      ]
     },
     "execution_count": 50,
     "metadata": {},
     "output_type": "execute_result"
    }
   ],
   "source": [
    "0==False"
   ]
  },
  {
   "cell_type": "code",
   "execution_count": 51,
   "id": "6946d553",
   "metadata": {},
   "outputs": [
    {
     "data": {
      "text/plain": [
       "False"
      ]
     },
     "execution_count": 51,
     "metadata": {},
     "output_type": "execute_result"
    }
   ],
   "source": [
    "'mamá'=='mama'"
   ]
  },
  {
   "cell_type": "code",
   "execution_count": 52,
   "id": "ba727fb9",
   "metadata": {},
   "outputs": [],
   "source": [
    "import math\n",
    "\n"
   ]
  },
  {
   "cell_type": "code",
   "execution_count": 53,
   "id": "aaa8373d",
   "metadata": {},
   "outputs": [
    {
     "data": {
      "text/plain": [
       "False"
      ]
     },
     "execution_count": 53,
     "metadata": {},
     "output_type": "execute_result"
    }
   ],
   "source": [
    "math.nan==math.nan"
   ]
  },
  {
   "cell_type": "code",
   "execution_count": 54,
   "id": "756c0bb4",
   "metadata": {},
   "outputs": [
    {
     "data": {
      "text/plain": [
       "5"
      ]
     },
     "execution_count": 54,
     "metadata": {},
     "output_type": "execute_result"
    }
   ],
   "source": [
    "entero"
   ]
  },
  {
   "cell_type": "code",
   "execution_count": 55,
   "id": "ddef9502",
   "metadata": {},
   "outputs": [
    {
     "data": {
      "text/plain": [
       "3.2"
      ]
     },
     "execution_count": 55,
     "metadata": {},
     "output_type": "execute_result"
    }
   ],
   "source": [
    "flotante"
   ]
  },
  {
   "cell_type": "code",
   "execution_count": 57,
   "id": "995e214b",
   "metadata": {},
   "outputs": [
    {
     "data": {
      "text/plain": [
       "True"
      ]
     },
     "execution_count": 57,
     "metadata": {},
     "output_type": "execute_result"
    }
   ],
   "source": [
    "entero>flotante"
   ]
  },
  {
   "cell_type": "code",
   "execution_count": 58,
   "id": "95c3a85a",
   "metadata": {},
   "outputs": [
    {
     "data": {
      "text/plain": [
       "True"
      ]
     },
     "execution_count": 58,
     "metadata": {},
     "output_type": "execute_result"
    }
   ],
   "source": [
    "entero>=flotante"
   ]
  },
  {
   "cell_type": "code",
   "execution_count": 60,
   "id": "eb1063d1",
   "metadata": {},
   "outputs": [
    {
     "data": {
      "text/plain": [
       "True"
      ]
     },
     "execution_count": 60,
     "metadata": {},
     "output_type": "execute_result"
    }
   ],
   "source": [
    "entero>=5"
   ]
  },
  {
   "cell_type": "code",
   "execution_count": 61,
   "id": "98221c0e",
   "metadata": {},
   "outputs": [
    {
     "data": {
      "text/plain": [
       "True"
      ]
     },
     "execution_count": 61,
     "metadata": {},
     "output_type": "execute_result"
    }
   ],
   "source": [
    "'limón'<'toronja'"
   ]
  },
  {
   "cell_type": "code",
   "execution_count": 62,
   "id": "b1a2ab60",
   "metadata": {},
   "outputs": [
    {
     "data": {
      "text/plain": [
       "True"
      ]
     },
     "execution_count": 62,
     "metadata": {},
     "output_type": "execute_result"
    }
   ],
   "source": [
    "'mas'<'peso'"
   ]
  },
  {
   "cell_type": "code",
   "execution_count": 65,
   "id": "2cd51fa7",
   "metadata": {},
   "outputs": [
    {
     "data": {
      "text/plain": [
       "False"
      ]
     },
     "execution_count": 65,
     "metadata": {},
     "output_type": "execute_result"
    }
   ],
   "source": [
    "'z'<'A'"
   ]
  },
  {
   "cell_type": "code",
   "execution_count": 64,
   "id": "ec9f7f74",
   "metadata": {},
   "outputs": [
    {
     "data": {
      "text/plain": [
       "3"
      ]
     },
     "execution_count": 64,
     "metadata": {},
     "output_type": "execute_result"
    }
   ],
   "source": [
    "len('uva')"
   ]
  },
  {
   "cell_type": "code",
   "execution_count": 67,
   "id": "790b4604",
   "metadata": {},
   "outputs": [],
   "source": [
    "mi_variable=5\n",
    "Mi_Variable=3"
   ]
  },
  {
   "cell_type": "code",
   "execution_count": 77,
   "id": "15220be1",
   "metadata": {},
   "outputs": [
    {
     "data": {
      "text/plain": [
       "False"
      ]
     },
     "execution_count": 77,
     "metadata": {},
     "output_type": "execute_result"
    }
   ],
   "source": [
    "mi_variable==Mi_Variable"
   ]
  },
  {
   "cell_type": "code",
   "execution_count": 70,
   "id": "0434f1ee",
   "metadata": {},
   "outputs": [
    {
     "data": {
      "text/plain": [
       "True"
      ]
     },
     "execution_count": 70,
     "metadata": {},
     "output_type": "execute_result"
    }
   ],
   "source": [
    "'&'<'@'"
   ]
  },
  {
   "cell_type": "code",
   "execution_count": 71,
   "id": "2a2b56b1",
   "metadata": {},
   "outputs": [
    {
     "data": {
      "text/plain": [
       "True"
      ]
     },
     "execution_count": 71,
     "metadata": {},
     "output_type": "execute_result"
    }
   ],
   "source": [
    "2!=3"
   ]
  },
  {
   "cell_type": "code",
   "execution_count": 73,
   "id": "0c810c8d",
   "metadata": {},
   "outputs": [
    {
     "ename": "SyntaxError",
     "evalue": "invalid syntax (3783241214.py, line 1)",
     "output_type": "error",
     "traceback": [
      "\u001b[1;36m  Cell \u001b[1;32mIn[73], line 1\u001b[1;36m\u001b[0m\n\u001b[1;33m    2<>3\u001b[0m\n\u001b[1;37m     ^\u001b[0m\n\u001b[1;31mSyntaxError\u001b[0m\u001b[1;31m:\u001b[0m invalid syntax\n"
     ]
    }
   ],
   "source": [
    "2<>3"
   ]
  },
  {
   "cell_type": "code",
   "execution_count": 74,
   "id": "41842b79",
   "metadata": {},
   "outputs": [],
   "source": [
    "mi_variable=2"
   ]
  },
  {
   "cell_type": "code",
   "execution_count": 75,
   "id": "28284b64",
   "metadata": {},
   "outputs": [],
   "source": [
    "nombre_exageradamente_largo_para_una_variable=3"
   ]
  },
  {
   "cell_type": "code",
   "execution_count": null,
   "id": "c2841c59",
   "metadata": {},
   "outputs": [],
   "source": []
  },
  {
   "cell_type": "code",
   "execution_count": null,
   "id": "8a14f703",
   "metadata": {},
   "outputs": [],
   "source": []
  },
  {
   "cell_type": "code",
   "execution_count": null,
   "id": "a65066eb",
   "metadata": {},
   "outputs": [],
   "source": []
  }
 ],
 "metadata": {
  "kernelspec": {
   "display_name": "Python 3 (ipykernel)",
   "language": "python",
   "name": "python3"
  },
  "language_info": {
   "codemirror_mode": {
    "name": "ipython",
    "version": 3
   },
   "file_extension": ".py",
   "mimetype": "text/x-python",
   "name": "python",
   "nbconvert_exporter": "python",
   "pygments_lexer": "ipython3",
   "version": "3.11.3"
  }
 },
 "nbformat": 4,
 "nbformat_minor": 5
}
